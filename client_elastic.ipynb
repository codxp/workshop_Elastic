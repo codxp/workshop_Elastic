{
 "cells": [
  {
   "cell_type": "code",
   "execution_count": 19,
   "metadata": {},
   "outputs": [],
   "source": [
    "from elasticsearch import Elasticsearch\n",
    "import os\n",
    "import pandas as pd\n",
    "\n",
    "es = Elasticsearch(\n",
    "    ['http://localhost:9200'],  # Adresse Elasticsearch\n",
    "    basic_auth=('elastic', 'IcuM24+R*=HgaV*3WWTE')\n",
    ")\n"
   ]
  },
  {
   "cell_type": "code",
   "execution_count": 20,
   "metadata": {},
   "outputs": [],
   "source": [
    "# Définition de la structure de l'index\n",
    "index_name = 'bano_data'\n",
    "index_body = {\n",
    "    \"mappings\": {\n",
    "        \"properties\": {\n",
    "            \"id\": {\"type\": \"keyword\"},  # id unique\n",
    "            \"numero\": {\"type\": \"text\"},  # numéro dans la voie (ex: 1, 1BIS)\n",
    "            \"voie\": {\"type\": \"text\"},  # nom de la voie\n",
    "            \"code_post\": {\"type\": \"keyword\"},  # code postal (5 caractères)\n",
    "            \"nom_comm\": {\"type\": \"text\"},  # nom de la commune\n",
    "            \"source\": {\"type\": \"keyword\"},  # source (OSM, OD, etc.)\n",
    "            \"lat\": {\"type\": \"float\"},  # latitude en degrés décimaux\n",
    "            \"lon\": {\"type\": \"float\"},  # longitude en degrés décimaux\n",
    "            \"location\": {\"type\": \"geo_point\"}  # champ pour la géolocalisation\n",
    "        }\n",
    "    }\n",
    "}"
   ]
  },
  {
   "cell_type": "code",
   "execution_count": 21,
   "metadata": {},
   "outputs": [
    {
     "data": {
      "text/plain": [
       "ObjectApiResponse({'acknowledged': True, 'shards_acknowledged': True, 'index': 'bano_data'})"
      ]
     },
     "execution_count": 21,
     "metadata": {},
     "output_type": "execute_result"
    }
   ],
   "source": [
    "# Création de l'index\n",
    "es.indices.create(index=index_name, body=index_body)"
   ]
  },
  {
   "cell_type": "markdown",
   "metadata": {},
   "source": [
    "## Vérification dans la console Kibana de la création du nouvel Index:\n",
    "# GET _cat/indices?v"
   ]
  },
  {
   "cell_type": "code",
   "execution_count": null,
   "metadata": {},
   "outputs": [],
   "source": [
    "folder_path = \"bano_data\"\n",
    "\n",
    "for file in os.listdir(folder_path):\n",
    "    if file.endswith(\".csv\"):\n",
    "        csv_file_path = os.path.join(folder_path, file)\n",
    "        # Lire le fichier CSV\n",
    "        df = pd.read_csv(csv_file_path, sep=\",\", names=[\n",
    "            \"id\", \"number\", \"street_name\", \"zipcode\", \"city\", \"source\", \"latitude\", \"longitude\"\n",
    "        ])\n",
    "\n",
    "        # Supprimer les colonnes inutiles\n",
    "        df.drop(columns=[\"message\", \"@version\", \"@timestamp\", \"host\"], inplace=True, errors='ignore')\n",
    "\n",
    "        # Convertir les champs latitude et longitude en float\n",
    "        df[\"latitude\"] = pd.to_numeric(df[\"latitude\"], errors='coerce')\n",
    "        df[\"longitude\"] = pd.to_numeric(df[\"longitude\"], errors='coerce')\n",
    "\n",
    "\n",
    "\n",
    "        # Envoyer les données transformées à Elasticsearch\n",
    "        for index, row in df.iterrows():\n",
    "            doc_id = row['id']\n",
    "            document = {\n",
    "                                \"id\": row['id'],\n",
    "                                \"numero\": row['number'],\n",
    "                                \"voie\": row['street_name'],\n",
    "                                \"code_post\": row['zipcode'],\n",
    "                                \"nom_comm\": row['city'],\n",
    "                                \"source\": row['source'],\n",
    "                                \"lat\": row['latitude'],\n",
    "                                \"lon\": row['longitude'],\n",
    "                                \"location\": {\n",
    "                                    \"lat\": row['latitude'],\n",
    "                                    \"lon\": row['longitude']\n",
    "                                }\n",
    "                            }\n",
    "            es.index(index=\"bano_data\", id=doc_id, document=document)\n",
    "\n",
    "print(\"Données ingérées avec succès!\")"
   ]
  },
  {
   "cell_type": "code",
   "execution_count": null,
   "metadata": {},
   "outputs": [],
   "source": [
    "# Exécuter la commande _cat/indices\n",
    "response = es.cat.indices(index=\"bano*\", h=\"index,docs.count,store.size\", v=True)\n",
    "\n",
    "# Afficher le résultat\n",
    "print(response)"
   ]
  },
  {
   "cell_type": "markdown",
   "metadata": {},
   "source": [
    "# Recherche par rapport à une position GPS donnée\n",
    "### Retourne uniquement le document avec la position la plus proche"
   ]
  },
  {
   "cell_type": "code",
   "execution_count": null,
   "metadata": {},
   "outputs": [],
   "source": [
    "# Exécuter la requête\n",
    "response = es.search(index=\"bano*\", body={\n",
    "  \"size\": 1, \n",
    "  \"sort\": [\n",
    "    {\n",
    "      \"_geo_distance\": {\n",
    "        \"location\": {\n",
    "          \"lat\": 46.746586,\n",
    "          \"lon\": 5.907748\n",
    "        }\n",
    "      }\n",
    "    }\n",
    "  ]\n",
    "})\n",
    "\n",
    "# Afficher le résultat\n",
    "print(response['hits']['hits'][0]['_source'])\n"
   ]
  },
  {
   "cell_type": "code",
   "execution_count": null,
   "metadata": {},
   "outputs": [],
   "source": []
  }
 ],
 "metadata": {
  "kernelspec": {
   "display_name": "env",
   "language": "python",
   "name": "python3"
  },
  "language_info": {
   "codemirror_mode": {
    "name": "ipython",
    "version": 3
   },
   "file_extension": ".py",
   "mimetype": "text/x-python",
   "name": "python",
   "nbconvert_exporter": "python",
   "pygments_lexer": "ipython3",
   "version": "3.11.7"
  }
 },
 "nbformat": 4,
 "nbformat_minor": 2
}
